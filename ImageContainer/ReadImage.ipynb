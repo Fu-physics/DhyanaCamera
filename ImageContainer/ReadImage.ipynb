{
 "cells": [
  {
   "cell_type": "code",
   "execution_count": 8,
   "metadata": {},
   "outputs": [],
   "source": [
    "from PIL import Image\n",
    "import numpy"
   ]
  },
  {
   "cell_type": "code",
   "execution_count": 9,
   "metadata": {},
   "outputs": [],
   "source": [
    "im = Image.open('image001.tif')"
   ]
  },
  {
   "cell_type": "code",
   "execution_count": 10,
   "metadata": {},
   "outputs": [],
   "source": [
    "imarray = numpy.array(im)"
   ]
  },
  {
   "cell_type": "code",
   "execution_count": 11,
   "metadata": {},
   "outputs": [
    {
     "data": {
      "text/plain": [
       "array([[ 193,  192,  200, ...,  252,  263,  263],\n",
       "       [ 193,  192,  200, ...,  252,  263,  263],\n",
       "       [ 210,  197,  190, ...,  238,  237,  277],\n",
       "       ...,\n",
       "       [ 193,  212,  225, ..., 1374, 1319, 1267],\n",
       "       [ 236,  238,  210, ..., 1407, 1405, 1221],\n",
       "       [ 236,  212,  253, ..., 1336, 1229, 1154]], dtype=uint16)"
      ]
     },
     "execution_count": 11,
     "metadata": {},
     "output_type": "execute_result"
    }
   ],
   "source": [
    "imarray"
   ]
  },
  {
   "cell_type": "code",
   "execution_count": 12,
   "metadata": {},
   "outputs": [
    {
     "data": {
      "text/plain": [
       "array([[ 215,  203,  198, ...,  280,  268,  244],\n",
       "       [ 215,  203,  198, ...,  280,  268,  244],\n",
       "       [ 213,  223,  201, ...,  266,  273,  240],\n",
       "       ...,\n",
       "       [ 231,  222,  212, ..., 1284, 1340, 1267],\n",
       "       [ 236,  207,  221, ..., 1376, 1379, 1191],\n",
       "       [ 221,  233,  207, ..., 1315, 1209, 1172]], dtype=uint16)"
      ]
     },
     "execution_count": 12,
     "metadata": {},
     "output_type": "execute_result"
    }
   ],
   "source": [
    "im = Image.open('image002.tif')\n",
    "numpy.array(im)"
   ]
  },
  {
   "cell_type": "code",
   "execution_count": 13,
   "metadata": {},
   "outputs": [
    {
     "data": {
      "text/plain": [
       "array([[ 203,  206,  207, ...,  266,  251,  275],\n",
       "       [ 203,  206,  207, ...,  266,  251,  275],\n",
       "       [ 191,  188,  234, ...,  263,  232,  255],\n",
       "       ...,\n",
       "       [ 230,  218,  206, ..., 1401, 1312, 1227],\n",
       "       [ 237,  214,  232, ..., 1266, 1248, 1181],\n",
       "       [ 201,  212,  222, ..., 1364, 1248, 1121]], dtype=uint16)"
      ]
     },
     "execution_count": 13,
     "metadata": {},
     "output_type": "execute_result"
    }
   ],
   "source": [
    "im = Image.open('image003.tif')\n",
    "numpy.array(im)"
   ]
  },
  {
   "cell_type": "code",
   "execution_count": null,
   "metadata": {},
   "outputs": [],
   "source": []
  },
  {
   "cell_type": "code",
   "execution_count": null,
   "metadata": {},
   "outputs": [],
   "source": []
  }
 ],
 "metadata": {
  "kernelspec": {
   "display_name": "Python 3",
   "language": "python",
   "name": "python3"
  },
  "language_info": {
   "codemirror_mode": {
    "name": "ipython",
    "version": 3
   },
   "file_extension": ".py",
   "mimetype": "text/x-python",
   "name": "python",
   "nbconvert_exporter": "python",
   "pygments_lexer": "ipython3",
   "version": "3.6.5"
  }
 },
 "nbformat": 4,
 "nbformat_minor": 2
}
